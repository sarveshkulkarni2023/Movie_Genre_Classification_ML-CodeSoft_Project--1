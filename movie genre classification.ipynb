{
 "cells": [
  {
   "cell_type": "code",
   "execution_count": 1,
   "id": "303c73c9-d5e3-492c-b57c-672e32b35c10",
   "metadata": {},
   "outputs": [],
   "source": [
    "import pandas as pd\n",
    "import numpy as np\n",
    "from sklearn.feature_extraction.text import TfidfVectorizer\n",
    "from sklearn.multioutput import MultiOutputClassifier\n",
    "from sklearn.naive_bayes import MultinomialNB\n",
    "from sklearn.preprocessing import MultiLabelBinarizer\n",
    "from sklearn.metrics import accuracy_score, precision_score ,recall_score,f1_score\n",
    "from tqdm import tqdm\n"
   ]
  },
  {
   "cell_type": "code",
   "execution_count": 2,
   "id": "5533d800-3ddf-49f6-8981-ac083698a96c",
   "metadata": {},
   "outputs": [],
   "source": [
    "#List of  Genres learnt from the training data\n",
    "genre_list =['action','adult','adventure','animation','biography','comedy','crime','documentary','family','fantasy','game_show','history','horror','music','musical','mystery','news','reality_tv','romance','sci_fi','short','sport','talk_shoe','thriller','war','western']\n",
    "\n"
   ]
  },
  {
   "cell_type": "code",
   "execution_count": 3,
   "id": "dc265a06-a8f1-4665-b070-30f96277cf31",
   "metadata": {},
   "outputs": [],
   "source": [
    "#define a fallback genre for movies which the model findds very hard to predict\n",
    "fallback_genre='Unknown'"
   ]
  },
  {
   "cell_type": "code",
   "execution_count": 4,
   "id": "24f6cf47-cd54-47fe-8f42-54bf4d4aca90",
   "metadata": {},
   "outputs": [
    {
     "name": "stderr",
     "output_type": "stream",
     "text": [
      "Loading Train Data: 100%|█████████████████| 50/50 [00:00<00:00, 173.66it/s]\n"
     ]
    }
   ],
   "source": [
    "#Load the Traning dataset from train_data.txt\n",
    "try:\n",
    "    with tqdm(total=50,desc=\"Loading Train Data\") as pbar:\n",
    "        train_data = pd.read_csv('train_data.txt', sep=':::', header=None, names=['SerialNumber','MOVIE_NAME','GENRE','MOVIE_PLOT'],engine='python')                               \n",
    "        pbar.update(50)\n",
    "except Exception as e:\n",
    "    print(f\"Error loading train_data: {e}\")\n",
    "    raise"
   ]
  },
  {
   "cell_type": "code",
   "execution_count": 5,
   "id": "fa0a2dbb-422a-4676-8fe2-a424bfa6b264",
   "metadata": {},
   "outputs": [],
   "source": [
    "#Data preprocessing for the training data\n",
    "x_train = train_data['MOVIE_PLOT'].astype(str).apply(lambda doc: doc.lower())\n",
    "genre_labels = [genre.split(',') for genre in train_data['GENRE']]\n",
    "mlb = MultiLabelBinarizer()\n",
    "y_train = mlb.fit_transform(genre_labels)"
   ]
  },
  {
   "cell_type": "code",
   "execution_count": 6,
   "id": "a629985e-a138-457c-9b08-5c3363727dd9",
   "metadata": {},
   "outputs": [],
   "source": [
    "#TF-IDF Vectorization\n",
    "tfidf_vectorizer = TfidfVectorizer(max_features=5000) #you can adjust max_features\n",
    "\n"
   ]
  },
  {
   "cell_type": "code",
   "execution_count": 7,
   "id": "e647fc8e-0352-43d7-8bd7-402f2ef6a2a9",
   "metadata": {},
   "outputs": [
    {
     "name": "stderr",
     "output_type": "stream",
     "text": [
      "Vectorizing Training Data: 100%|███████████| 50/50 [00:03<00:00, 13.91it/s]\n"
     ]
    }
   ],
   "source": [
    "#Fit and transform the training data with progress bar\n",
    "with tqdm(total=50,desc=\"Vectorizing Training Data\") as pbar:\n",
    "    x_train_tfidf = tfidf_vectorizer.fit_transform(x_train)\n",
    "    pbar.update(50)\n"
   ]
  },
  {
   "cell_type": "code",
   "execution_count": 8,
   "id": "8b0a7ba3-1a36-464e-aecc-4ba0da8672ce",
   "metadata": {},
   "outputs": [
    {
     "name": "stderr",
     "output_type": "stream",
     "text": [
      "Training Model: 100%|██████████████████████| 50/50 [00:00<00:00, 58.49it/s]\n"
     ]
    }
   ],
   "source": [
    "#Train a multiOutput Naive Bayes classifier using the training data    \n",
    "with tqdm(total=50,desc=\"Training Model\") as pbar:\n",
    "    naive_bayes = MultinomialNB()\n",
    "    multi_output_classifier = MultiOutputClassifier(naive_bayes)\n",
    "    multi_output_classifier.fit(x_train_tfidf,y_train)\n",
    "    pbar.update(50)"
   ]
  },
  {
   "cell_type": "code",
   "execution_count": 9,
   "id": "311971da-41fe-4d62-b74f-5d2133fe4369",
   "metadata": {},
   "outputs": [
    {
     "name": "stderr",
     "output_type": "stream",
     "text": [
      "Loading test data: 100%|██████████████████| 50/50 [00:00<00:00, 105.20it/s]\n"
     ]
    }
   ],
   "source": [
    "#Load your test dataset from test_data.txt\n",
    "try:\n",
    "    with tqdm(total=50, desc=\"Loading test data\")as pbar:\n",
    "        test_data = pd.read_csv('test_data.txt', sep=':::', header=None, names=['SerialNumber','MOVIE_NAME','MOVIE_PLOT',],engine='python')\n",
    "        pbar.update(50)\n",
    "except Exception as e:\n",
    "    print(f\"Error loading test_data: {e}\")\n",
    "    raise"
   ]
  },
  {
   "cell_type": "code",
   "execution_count": 10,
   "id": "a9ef263a-6b13-4921-b4b3-7a95181a8ecc",
   "metadata": {},
   "outputs": [],
   "source": [
    "#Data preprocessing for test data\n",
    "x_test = test_data['MOVIE_PLOT'].astype(str).apply(lambda doc: doc.lower())"
   ]
  },
  {
   "cell_type": "code",
   "execution_count": 11,
   "id": "3a68dd34-9a34-4d93-8b80-96c42e65a867",
   "metadata": {},
   "outputs": [
    {
     "name": "stderr",
     "output_type": "stream",
     "text": [
      "Vectorizing Test Data: 100%|███████████████| 50/50 [00:06<00:00,  7.49it/s]\n"
     ]
    }
   ],
   "source": [
    "# Transform the test data with progress bar\n",
    "with tqdm(total=50, desc=\"Vectorizing Test Data\") as pbar:\n",
    "    x_test_tfidf = tfidf_vectorizer.transform(x_test)\n",
    "    pbar.update(50)"
   ]
  },
  {
   "cell_type": "code",
   "execution_count": 12,
   "id": "92f94190-9a5a-478f-8956-db4a32e398a4",
   "metadata": {},
   "outputs": [
    {
     "name": "stderr",
     "output_type": "stream",
     "text": [
      "Predicting on Test Data: 100%|█████████████| 50/50 [00:00<00:00, 84.42it/s]\n"
     ]
    }
   ],
   "source": [
    "# predict genres on the test data\n",
    "with tqdm(total=50,desc=\"Predicting on Test Data\") as pbar:\n",
    "    y_pred = multi_output_classifier.predict(x_test_tfidf)\n",
    "    pbar.update(50)\n",
    "                                    "
   ]
  },
  {
   "cell_type": "code",
   "execution_count": 13,
   "id": "f1f2f078-90c7-4d70-9286-17da0914e698",
   "metadata": {},
   "outputs": [],
   "source": [
    "#Create a DataFrame for test data with movie names and predicted genres\n",
    "test_movie_names = test_data['MOVIE_NAME']\n",
    "predicted_genres = mlb.inverse_transform(y_pred)\n",
    "test_results = pd.DataFrame({'MOVIE_NAME': test_movie_names, 'PREDICTED_GENRES': predicted_genres})"
   ]
  },
  {
   "cell_type": "code",
   "execution_count": 14,
   "id": "5dcd84d8-7476-4685-a0c0-786cbd3f58b6",
   "metadata": {},
   "outputs": [],
   "source": [
    "# Replace empty unpredicted genres with the fallback genre \n",
    "test_results['PREDICTED_GENRES'] = test_results['PREDICTED_GENRES'].apply(lambda genres: [fallback_genre] if len(genres) ==0 else genres)\n"
   ]
  },
  {
   "cell_type": "code",
   "execution_count": 15,
   "id": "dfe38bd9-9493-417c-bc77-7b49b1189bee",
   "metadata": {},
   "outputs": [],
   "source": [
    "# Write the results to an output text file with proper formatting\n",
    "with open(\"model_evaluation.txt\",\"w\", encoding=\"utf-8\")as output_file:\n",
    "    for _, row in test_results.iterrows():\n",
    "        movie_name = row['MOVIE_NAME']\n",
    "        genre_str = ', '.join(row['PREDICTED_GENRES'])\n",
    "        output_file.write(f\"{movie_name} ::: {genre_str}\\n\")"
   ]
  },
  {
   "cell_type": "code",
   "execution_count": 16,
   "id": "eea86949-6ef7-43b5-9dc8-fc6d504ad1d3",
   "metadata": {},
   "outputs": [],
   "source": [
    "# Calculate evaluation metrics using training labels (as a proxy)\n",
    "y_train_pred = multi_output_classifier.predict(x_train_tfidf)"
   ]
  },
  {
   "cell_type": "code",
   "execution_count": 17,
   "id": "3cde7fda-e24c-42a4-9507-dca002c7c0fe",
   "metadata": {},
   "outputs": [],
   "source": [
    "# Calculate evaluation metrics\n",
    "accuracy = accuracy_score(y_train, y_train_pred)\n",
    "precision = precision_score(y_train,y_train_pred, average='micro')\n",
    "recall = recall_score(y_train,y_train_pred, average='micro')\n",
    "f1 = f1_score(y_train, y_train_pred, average='micro')"
   ]
  },
  {
   "cell_type": "code",
   "execution_count": 18,
   "id": "e3b14acd-b2bb-4989-8d75-d92dd1e112db",
   "metadata": {},
   "outputs": [],
   "source": [
    "# Append the evaluation metrics to the output file\n",
    "with open(\"model_evaluation.txt\", \"a\", encoding=\"utf-8\") as output_file:\n",
    "    output_file.write(\"\\n\\nModel Evalution Metrics:\\n\")\n",
    "    output_file.write(f\"Accuracy: {accuracy * 100:.2f}%\\n\")\n",
    "    output_file.write(f\"Precision: {precision:.2f}\\n\")\n",
    "    output_file.write(f\"Recall: {recall:.2f}\\n\")\n",
    "    output_file.write(f\"F1-score: {f1:.2f}\\n\")\n",
    "\n",
    "    "
   ]
  },
  {
   "cell_type": "code",
   "execution_count": 19,
   "id": "67e567eb-89d5-4827-b1c1-e9076cb7755d",
   "metadata": {},
   "outputs": [
    {
     "name": "stdout",
     "output_type": "stream",
     "text": [
      "Model evaluation results and metrics have been saved to 'model_evaluation.txt'.\n"
     ]
    }
   ],
   "source": [
    "print(\"Model evaluation results and metrics have been saved to 'model_evaluation.txt'.\")"
   ]
  },
  {
   "cell_type": "code",
   "execution_count": null,
   "id": "fabdd113-df69-470d-854a-a95232a0357f",
   "metadata": {},
   "outputs": [],
   "source": []
  },
  {
   "cell_type": "code",
   "execution_count": null,
   "id": "79b8f998-1cdc-4ff1-a05e-fb96f328e127",
   "metadata": {},
   "outputs": [],
   "source": []
  },
  {
   "cell_type": "code",
   "execution_count": null,
   "id": "87f065f7-976c-460b-930d-3049af498a84",
   "metadata": {},
   "outputs": [],
   "source": []
  }
 ],
 "metadata": {
  "kernelspec": {
   "display_name": "Python 3 (ipykernel)",
   "language": "python",
   "name": "python3"
  },
  "language_info": {
   "codemirror_mode": {
    "name": "ipython",
    "version": 3
   },
   "file_extension": ".py",
   "mimetype": "text/x-python",
   "name": "python",
   "nbconvert_exporter": "python",
   "pygments_lexer": "ipython3",
   "version": "3.11.7"
  }
 },
 "nbformat": 4,
 "nbformat_minor": 5
}
